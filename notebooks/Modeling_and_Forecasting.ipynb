{
 "cells": [
  {
   "cell_type": "markdown",
   "id": "e166833d",
   "metadata": {},
   "source": [
    "# Forecasting & Modelling"
   ]
  },
  {
   "cell_type": "code",
   "execution_count": 1,
   "id": "6f5f7491",
   "metadata": {},
   "outputs": [],
   "source": [
    "\n",
    "import pandas as pd\n",
    "import numpy as np\n",
    "from sklearn.metrics import mean_absolute_error\n",
    "import matplotlib.pyplot as plt\n",
    "import joblib\n",
    "\n",
    "    "
   ]
  },
  {
   "cell_type": "markdown",
   "id": "d1b5ae10",
   "metadata": {},
   "source": [
    "# Dataset Loading"
   ]
  },
  {
   "cell_type": "code",
   "execution_count": 2,
   "id": "2ab7e370",
   "metadata": {},
   "outputs": [],
   "source": [
    "df = pd.read_csv('../data/Assessment-2-Associate-DS(in).csv')\n",
    "df['weekend_date'] = pd.to_datetime(df['weekend_date'], dayfirst=True, errors='coerce')\n",
    "df = df.sort_values('weekend_date')"
   ]
  },
  {
   "cell_type": "code",
   "execution_count": 3,
   "id": "242eb86d",
   "metadata": {},
   "outputs": [
    {
     "data": {
      "text/html": [
       "<div>\n",
       "<style scoped>\n",
       "    .dataframe tbody tr th:only-of-type {\n",
       "        vertical-align: middle;\n",
       "    }\n",
       "\n",
       "    .dataframe tbody tr th {\n",
       "        vertical-align: top;\n",
       "    }\n",
       "\n",
       "    .dataframe thead th {\n",
       "        text-align: right;\n",
       "    }\n",
       "</style>\n",
       "<table border=\"1\" class=\"dataframe\">\n",
       "  <thead>\n",
       "    <tr style=\"text-align: right;\">\n",
       "      <th></th>\n",
       "      <th>quantity</th>\n",
       "    </tr>\n",
       "    <tr>\n",
       "      <th>weekend_date</th>\n",
       "      <th></th>\n",
       "    </tr>\n",
       "  </thead>\n",
       "  <tbody>\n",
       "    <tr>\n",
       "      <th>2024-07-28</th>\n",
       "      <td>0.0</td>\n",
       "    </tr>\n",
       "    <tr>\n",
       "      <th>2024-08-04</th>\n",
       "      <td>0.0</td>\n",
       "    </tr>\n",
       "    <tr>\n",
       "      <th>2024-08-11</th>\n",
       "      <td>0.0</td>\n",
       "    </tr>\n",
       "    <tr>\n",
       "      <th>2024-08-18</th>\n",
       "      <td>0.0</td>\n",
       "    </tr>\n",
       "    <tr>\n",
       "      <th>2024-08-25</th>\n",
       "      <td>0.0</td>\n",
       "    </tr>\n",
       "  </tbody>\n",
       "</table>\n",
       "</div>"
      ],
      "text/plain": [
       "              quantity\n",
       "weekend_date          \n",
       "2024-07-28         0.0\n",
       "2024-08-04         0.0\n",
       "2024-08-11         0.0\n",
       "2024-08-18         0.0\n",
       "2024-08-25         0.0"
      ]
     },
     "execution_count": 3,
     "metadata": {},
     "output_type": "execute_result"
    }
   ],
   "source": [
    "weekly_sales = df.groupby('weekend_date')['quantity'].sum().reset_index()\n",
    "weekly_sales.set_index('weekend_date', inplace=True)\n",
    "weekly_sales = weekly_sales.asfreq('W-SUN')\n",
    "weekly_sales['quantity'] = weekly_sales['quantity'].fillna(0)\n",
    "weekly_sales.tail()"
   ]
  },
  {
   "cell_type": "markdown",
   "id": "c8d6aa48",
   "metadata": {},
   "source": [
    "# Training"
   ]
  },
  {
   "cell_type": "code",
   "execution_count": 49,
   "id": "c2c37183",
   "metadata": {},
   "outputs": [],
   "source": [
    "import pandas as pd\n",
    "import matplotlib.pyplot as plt\n",
    "from statsmodels.tsa.arima.model import ARIMA\n",
    "from sklearn.metrics import mean_squared_error\n",
    "import joblib\n"
   ]
  },
  {
   "cell_type": "markdown",
   "id": "93f5ab9e",
   "metadata": {},
   "source": [
    "prepare time series"
   ]
  },
  {
   "cell_type": "code",
   "execution_count": 50,
   "id": "4bf082d8",
   "metadata": {},
   "outputs": [],
   "source": [
    "# Ensure date is datetime and sorted\n",
    "df['weekend_date'] = pd.to_datetime(df['weekend_date'])\n",
    "df = df.sort_values('weekend_date')\n",
    "\n",
    "# Set weekend_date as index\n",
    "df.set_index('weekend_date', inplace=True)\n",
    "\n",
    "# Extract the univariate series\n",
    "series = df['quantity']\n"
   ]
  },
  {
   "cell_type": "markdown",
   "id": "929f6cd2",
   "metadata": {},
   "source": [
    "Split Data"
   ]
  },
  {
   "cell_type": "code",
   "execution_count": null,
   "id": "e44b5271",
   "metadata": {},
   "outputs": [],
   "source": [
    "\n",
    "split = int(0.8 * len(series))\n",
    "train, test = series[:split], series[split:]\n"
   ]
  },
  {
   "cell_type": "code",
   "execution_count": 52,
   "id": "a5752a64",
   "metadata": {},
   "outputs": [
    {
     "name": "stderr",
     "output_type": "stream",
     "text": [
      "d:\\IntelliMark\\env\\lib\\site-packages\\statsmodels\\tsa\\base\\tsa_model.py:473: ValueWarning: A date index has been provided, but it has no associated frequency information and so will be ignored when e.g. forecasting.\n",
      "  self._init_dates(dates, freq)\n",
      "d:\\IntelliMark\\env\\lib\\site-packages\\statsmodels\\tsa\\base\\tsa_model.py:473: ValueWarning: A date index has been provided, but it has no associated frequency information and so will be ignored when e.g. forecasting.\n",
      "  self._init_dates(dates, freq)\n",
      "d:\\IntelliMark\\env\\lib\\site-packages\\statsmodels\\tsa\\base\\tsa_model.py:473: ValueWarning: A date index has been provided, but it has no associated frequency information and so will be ignored when e.g. forecasting.\n",
      "  self._init_dates(dates, freq)\n"
     ]
    }
   ],
   "source": [
    "# ARMA(p, q) is ARIMA(p, 0, q)\n",
    "model = ARIMA(train, order=(2, 0, 2))  # try (2,0,2), can tune later\n",
    "results = model.fit()\n"
   ]
  },
  {
   "cell_type": "markdown",
   "id": "3c6f38d6",
   "metadata": {},
   "source": [
    "forecast and evaluate"
   ]
  },
  {
   "cell_type": "code",
   "execution_count": 53,
   "id": "05206887",
   "metadata": {},
   "outputs": [
    {
     "name": "stderr",
     "output_type": "stream",
     "text": [
      "d:\\IntelliMark\\env\\lib\\site-packages\\statsmodels\\tsa\\base\\tsa_model.py:837: ValueWarning: No supported index is available. Prediction results will be given with an integer index beginning at `start`.\n",
      "  return get_prediction_index(\n",
      "d:\\IntelliMark\\env\\lib\\site-packages\\statsmodels\\tsa\\base\\tsa_model.py:837: FutureWarning: No supported index is available. In the next version, calling this method in a model without a supported index will result in an exception.\n",
      "  return get_prediction_index(\n"
     ]
    },
    {
     "name": "stdout",
     "output_type": "stream",
     "text": [
      "MSE: 1017641.4215410339\n"
     ]
    },
    {
     "data": {
      "image/png": "[encoded data removed]",
      "text/plain": [
       "<Figure size 1000x500 with 1 Axes>"
      ]
     },
     "metadata": {},
     "output_type": "display_data"
    }
   ],
   "source": [
    "# Forecast same length as test\n",
    "forecast = results.forecast(steps=len(test))\n",
    "\n",
    "# Evaluate\n",
    "mse = mean_squared_error(test, forecast)\n",
    "print(\"MSE:\", mse)\n",
    "\n",
    "# Plot actual vs predicted\n",
    "plt.figure(figsize=(10,5))\n",
    "plt.plot(test.index, test, label='Actual')\n",
    "plt.plot(test.index, forecast, label='Forecast')\n",
    "plt.legend()\n",
    "plt.title('ARMA Model Forecast')\n",
    "plt.show()\n"
   ]
  },
  {
   "cell_type": "code",
   "execution_count": 57,
   "id": "2dcd2275",
   "metadata": {},
   "outputs": [
    {
     "name": "stderr",
     "output_type": "stream",
     "text": [
      "d:\\IntelliMark\\env\\lib\\site-packages\\statsmodels\\tsa\\base\\tsa_model.py:837: ValueWarning: No supported index is available. Prediction results will be given with an integer index beginning at `start`.\n",
      "  return get_prediction_index(\n",
      "d:\\IntelliMark\\env\\lib\\site-packages\\statsmodels\\tsa\\base\\tsa_model.py:837: FutureWarning: No supported index is available. In the next version, calling this method in a model without a supported index will result in an exception.\n",
      "  return get_prediction_index(\n"
     ]
    },
    {
     "name": "stdout",
     "output_type": "stream",
     "text": [
      "MSE: 1017641.4215410339\n"
     ]
    },
    {
     "data": {
      "image/png": "[encoded data removed]",
      "text/plain": [
       "<Figure size 1000x500 with 1 Axes>"
      ]
     },
     "metadata": {},
     "output_type": "display_data"
    }
   ],
   "source": [
    "# Forecast same length as test\n",
    "forecast = results.forecast(steps=len(test))\n",
    "\n",
    "# Evaluate\n",
    "mse = mean_squared_error(test, forecast)\n",
    "print(\"MSE:\", mse)\n",
    "\n",
    "# Plot actual vs predicted\n",
    "plt.figure(figsize=(10,5))\n",
    "plt.plot(test.index, test, label='Actual')\n",
    "plt.plot(test.index, forecast, label='Forecast')\n",
    "plt.legend()\n",
    "plt.title('ARMA Model Forecast')\n",
    "plt.show()\n"
   ]
  },
  {
   "cell_type": "markdown",
   "id": "cb6457f7",
   "metadata": {},
   "source": [
    "Checking Accuracy "
   ]
  },
  {
   "cell_type": "code",
   "execution_count": 55,
   "id": "4d8130fe",
   "metadata": {},
   "outputs": [
    {
     "name": "stdout",
     "output_type": "stream",
     "text": [
      "📊 Model Accuracy Metrics:\n",
      "✅ Mean Squared Error (MSE): 1017641.42\n",
      "✅ Root Mean Squared Error (RMSE): 1008.78\n",
      "✅ Mean Absolute Error (MAE): 577.30\n",
      "✅ R² Score: -0.0055\n"
     ]
    }
   ],
   "source": [
    "from sklearn.metrics import mean_squared_error, mean_absolute_error, r2_score\n",
    "import numpy as np\n",
    "\n",
    "# Accuracy metrics\n",
    "mse = mean_squared_error(test, forecast)\n",
    "rmse = np.sqrt(mse)\n",
    "mae = mean_absolute_error(test, forecast)\n",
    "r2 = r2_score(test, forecast)\n",
    "\n",
    "# Print results\n",
    "print(\"📊 Model Accuracy Metrics:\")\n",
    "print(f\"✅ Mean Squared Error (MSE): {mse:.2f}\")\n",
    "print(f\"✅ Root Mean Squared Error (RMSE): {rmse:.2f}\")\n",
    "print(f\"✅ Mean Absolute Error (MAE): {mae:.2f}\")\n",
    "print(f\"✅ R² Score: {r2:.4f}\")"
   ]
  },
  {
   "cell_type": "code",
   "execution_count": 4,
   "id": "8cd38eb2",
   "metadata": {},
   "outputs": [
    {
     "name": "stdout",
     "output_type": "stream",
     "text": [
      "Train shape: (104, 1), Validation shape: (13, 1)\n"
     ]
    }
   ],
   "source": [
    "val_start = '2024-06-01'\n",
    "val_end = '2024-08-31'\n",
    "train = weekly_sales.loc[:val_start].iloc[:-1]  # up to week before validation\\n\",\n",
    "val = weekly_sales.loc[val_start:val_end]\n",
    "print(f'Train shape: {train.shape}, Validation shape: {val.shape}')            "
   ]
  },
  {
   "cell_type": "code",
   "execution_count": 5,
   "id": "fd1a26b5",
   "metadata": {},
   "outputs": [
    {
     "name": "stderr",
     "output_type": "stream",
     "text": [
      "d:\\IntelliMark\\env\\lib\\site-packages\\statsmodels\\base\\model.py:607: ConvergenceWarning: Maximum Likelihood optimization failed to converge. Check mle_retvals\n",
      "  warnings.warn(\"Maximum Likelihood optimization failed to \"\n"
     ]
    },
    {
     "data": {
      "text/plain": [
       "['../models/arima_model.joblib']"
      ]
     },
     "execution_count": 5,
     "metadata": {},
     "output_type": "execute_result"
    }
   ],
   "source": [
    "from statsmodels.tsa.arima.model import ARIMA\n",
    "model = ARIMA(train['quantity'], order=(1,1,1))\n",
    "model_fit = model.fit()\n",
    "\n",
    "joblib.dump(model_fit, '../models/arima_model.joblib')"
   ]
  },
  {
   "cell_type": "code",
   "execution_count": null,
   "id": "916bf8c7",
   "metadata": {},
   "outputs": [
    {
     "name": "stderr",
     "output_type": "stream",
     "text": [
      "C:\\Users\\jc963\\AppData\\Local\\Temp\\ipykernel_12104\\3513942359.py:7: RuntimeWarning: invalid value encountered in scalar divide\n",
      "  monthly_acc = val.groupby('month').apply(lambda x: 1 - np.sum(np.abs(x['predicted'] - x['quantity'])) / np.sum(x['quantity']))\n",
      "C:\\Users\\jc963\\AppData\\Local\\Temp\\ipykernel_12104\\3513942359.py:7: FutureWarning: DataFrameGroupBy.apply operated on the grouping columns. This behavior is deprecated, and in a future version of pandas the grouping columns will be excluded from the operation. Either pass `include_groups=False` to exclude the groupings or explicitly select the grouping columns after groupby to silence this warning.\n",
      "  monthly_acc = val.groupby('month').apply(lambda x: 1 - np.sum(np.abs(x['predicted'] - x['quantity'])) / np.sum(x['quantity']))\n"
     ]
    },
    {
     "data": {
      "text/plain": [
       "month\n",
       "2024-06   NaN\n",
       "2024-07   NaN\n",
       "2024-08   NaN\n",
       "Freq: M, Name: accuracy, dtype: float64"
      ]
     },
     "execution_count": 6,
     "metadata": {},
     "output_type": "execute_result"
    }
   ],
   "source": [
    "\n",
    "n_val = len(val)\n",
    "val_pred = model_fit.forecast(steps=n_val)\n",
    "val = val.copy()\n",
    "val['predicted'] = val_pred.values\n",
    "\n",
    "val['month'] = val.index.to_period('M')\n",
    "monthly_acc = val.groupby('month').apply(lambda x: 1 - np.sum(np.abs(x['predicted'] - x['quantity'])) / np.sum(x['quantity']))\n",
    "monthly_acc = monthly_acc.rename('accuracy')\n",
    "monthly_acc"
   ]
  },
  {
   "cell_type": "markdown",
   "id": "d483ca02",
   "metadata": {},
   "source": [
    "# Forecasting "
   ]
  },
  {
   "cell_type": "code",
   "execution_count": 7,
   "id": "7572ca85",
   "metadata": {},
   "outputs": [
    {
     "data": {
      "text/html": [
       "<div>\n",
       "<style scoped>\n",
       "    .dataframe tbody tr th:only-of-type {\n",
       "        vertical-align: middle;\n",
       "    }\n",
       "\n",
       "    .dataframe tbody tr th {\n",
       "        vertical-align: top;\n",
       "    }\n",
       "\n",
       "    .dataframe thead th {\n",
       "        text-align: right;\n",
       "    }\n",
       "</style>\n",
       "<table border=\"1\" class=\"dataframe\">\n",
       "  <thead>\n",
       "    <tr style=\"text-align: right;\">\n",
       "      <th></th>\n",
       "      <th>weekend_date</th>\n",
       "      <th>predicted_quantity</th>\n",
       "    </tr>\n",
       "  </thead>\n",
       "  <tbody>\n",
       "    <tr>\n",
       "      <th>0</th>\n",
       "      <td>2024-09-01</td>\n",
       "      <td>0.0</td>\n",
       "    </tr>\n",
       "    <tr>\n",
       "      <th>1</th>\n",
       "      <td>2024-09-08</td>\n",
       "      <td>0.0</td>\n",
       "    </tr>\n",
       "    <tr>\n",
       "      <th>2</th>\n",
       "      <td>2024-09-15</td>\n",
       "      <td>0.0</td>\n",
       "    </tr>\n",
       "    <tr>\n",
       "      <th>3</th>\n",
       "      <td>2024-09-22</td>\n",
       "      <td>0.0</td>\n",
       "    </tr>\n",
       "    <tr>\n",
       "      <th>4</th>\n",
       "      <td>2024-09-29</td>\n",
       "      <td>0.0</td>\n",
       "    </tr>\n",
       "    <tr>\n",
       "      <th>5</th>\n",
       "      <td>2024-10-06</td>\n",
       "      <td>0.0</td>\n",
       "    </tr>\n",
       "    <tr>\n",
       "      <th>6</th>\n",
       "      <td>2024-10-13</td>\n",
       "      <td>0.0</td>\n",
       "    </tr>\n",
       "    <tr>\n",
       "      <th>7</th>\n",
       "      <td>2024-10-20</td>\n",
       "      <td>0.0</td>\n",
       "    </tr>\n",
       "    <tr>\n",
       "      <th>8</th>\n",
       "      <td>2024-10-27</td>\n",
       "      <td>0.0</td>\n",
       "    </tr>\n",
       "    <tr>\n",
       "      <th>9</th>\n",
       "      <td>2024-11-03</td>\n",
       "      <td>0.0</td>\n",
       "    </tr>\n",
       "    <tr>\n",
       "      <th>10</th>\n",
       "      <td>2024-11-10</td>\n",
       "      <td>0.0</td>\n",
       "    </tr>\n",
       "    <tr>\n",
       "      <th>11</th>\n",
       "      <td>2024-11-17</td>\n",
       "      <td>0.0</td>\n",
       "    </tr>\n",
       "    <tr>\n",
       "      <th>12</th>\n",
       "      <td>2024-11-24</td>\n",
       "      <td>0.0</td>\n",
       "    </tr>\n",
       "  </tbody>\n",
       "</table>\n",
       "</div>"
      ],
      "text/plain": [
       "   weekend_date  predicted_quantity\n",
       "0    2024-09-01                 0.0\n",
       "1    2024-09-08                 0.0\n",
       "2    2024-09-15                 0.0\n",
       "3    2024-09-22                 0.0\n",
       "4    2024-09-29                 0.0\n",
       "5    2024-10-06                 0.0\n",
       "6    2024-10-13                 0.0\n",
       "7    2024-10-20                 0.0\n",
       "8    2024-10-27                 0.0\n",
       "9    2024-11-03                 0.0\n",
       "10   2024-11-10                 0.0\n",
       "11   2024-11-17                 0.0\n",
       "12   2024-11-24                 0.0"
      ]
     },
     "execution_count": 7,
     "metadata": {},
     "output_type": "execute_result"
    }
   ],
   "source": [
    "import datetime\n",
    "last_date = weekly_sales.index.max()\n",
    "future_weeks = pd.date_range(start=last_date + pd.Timedelta(weeks=1), periods=13, freq='W-SUN')\n",
    "future_pred = model_fit.forecast(steps=13)\n",
    "forecast_df = pd.DataFrame({'weekend_date': future_weeks, 'predicted_quantity': future_pred.values})\n",
    "forecast_df"
   ]
  },
  {
   "cell_type": "code",
   "execution_count": 13,
   "id": "9cba1fc7",
   "metadata": {},
   "outputs": [
    {
     "data": {
      "text/html": [
       "<div>\n",
       "<style scoped>\n",
       "    .dataframe tbody tr th:only-of-type {\n",
       "        vertical-align: middle;\n",
       "    }\n",
       "\n",
       "    .dataframe tbody tr th {\n",
       "        vertical-align: top;\n",
       "    }\n",
       "\n",
       "    .dataframe thead th {\n",
       "        text-align: right;\n",
       "    }\n",
       "</style>\n",
       "<table border=\"1\" class=\"dataframe\">\n",
       "  <thead>\n",
       "    <tr style=\"text-align: right;\">\n",
       "      <th></th>\n",
       "      <th>weekend_date</th>\n",
       "      <th>predicted_quantity</th>\n",
       "    </tr>\n",
       "  </thead>\n",
       "  <tbody>\n",
       "    <tr>\n",
       "      <th>0</th>\n",
       "      <td>2024-09-01</td>\n",
       "      <td>0.0</td>\n",
       "    </tr>\n",
       "    <tr>\n",
       "      <th>1</th>\n",
       "      <td>2024-09-08</td>\n",
       "      <td>0.0</td>\n",
       "    </tr>\n",
       "    <tr>\n",
       "      <th>2</th>\n",
       "      <td>2024-09-15</td>\n",
       "      <td>0.0</td>\n",
       "    </tr>\n",
       "    <tr>\n",
       "      <th>3</th>\n",
       "      <td>2024-09-22</td>\n",
       "      <td>0.0</td>\n",
       "    </tr>\n",
       "    <tr>\n",
       "      <th>4</th>\n",
       "      <td>2024-09-29</td>\n",
       "      <td>0.0</td>\n",
       "    </tr>\n",
       "    <tr>\n",
       "      <th>5</th>\n",
       "      <td>2024-10-06</td>\n",
       "      <td>0.0</td>\n",
       "    </tr>\n",
       "    <tr>\n",
       "      <th>6</th>\n",
       "      <td>2024-10-13</td>\n",
       "      <td>0.0</td>\n",
       "    </tr>\n",
       "    <tr>\n",
       "      <th>7</th>\n",
       "      <td>2024-10-20</td>\n",
       "      <td>0.0</td>\n",
       "    </tr>\n",
       "    <tr>\n",
       "      <th>8</th>\n",
       "      <td>2024-10-27</td>\n",
       "      <td>0.0</td>\n",
       "    </tr>\n",
       "    <tr>\n",
       "      <th>9</th>\n",
       "      <td>2024-11-03</td>\n",
       "      <td>0.0</td>\n",
       "    </tr>\n",
       "    <tr>\n",
       "      <th>10</th>\n",
       "      <td>2024-11-10</td>\n",
       "      <td>0.0</td>\n",
       "    </tr>\n",
       "    <tr>\n",
       "      <th>11</th>\n",
       "      <td>2024-11-17</td>\n",
       "      <td>0.0</td>\n",
       "    </tr>\n",
       "    <tr>\n",
       "      <th>12</th>\n",
       "      <td>2024-11-24</td>\n",
       "      <td>0.0</td>\n",
       "    </tr>\n",
       "  </tbody>\n",
       "</table>\n",
       "</div>"
      ],
      "text/plain": [
       "   weekend_date  predicted_quantity\n",
       "0    2024-09-01                 0.0\n",
       "1    2024-09-08                 0.0\n",
       "2    2024-09-15                 0.0\n",
       "3    2024-09-22                 0.0\n",
       "4    2024-09-29                 0.0\n",
       "5    2024-10-06                 0.0\n",
       "6    2024-10-13                 0.0\n",
       "7    2024-10-20                 0.0\n",
       "8    2024-10-27                 0.0\n",
       "9    2024-11-03                 0.0\n",
       "10   2024-11-10                 0.0\n",
       "11   2024-11-17                 0.0\n",
       "12   2024-11-24                 0.0"
      ]
     },
     "execution_count": 13,
     "metadata": {},
     "output_type": "execute_result"
    }
   ],
   "source": [
    "future_weeks = pd.date_range(start=val.index[-1] + pd.Timedelta(weeks=1), periods=13, freq='W-SUN')\n",
    "future_pred = model_fit.forecast(steps=13)\n",
    "forecast_df = pd.DataFrame({'weekend_date': future_weeks, 'predicted_quantity': future_pred.values})\n",
    "forecast_df"
   ]
  },
  {
   "cell_type": "code",
   "execution_count": 17,
   "id": "d69181ee",
   "metadata": {},
   "outputs": [
    {
     "name": "stdout",
     "output_type": "stream",
     "text": [
      "Index(['weekend_date', 'channel', 'brand', 'category', 'sub_category',\n",
      "       'SerailNum', 'quantity'],\n",
      "      dtype='object')\n"
     ]
    }
   ],
   "source": [
    "print(df.columns)\n"
   ]
  }
 ],
 "metadata": {
  "kernelspec": {
   "display_name": "env",
   "language": "python",
   "name": "python3"
  },
  "language_info": {
   "codemirror_mode": {
    "name": "ipython",
    "version": 3
   },
   "file_extension": ".py",
   "mimetype": "text/x-python",
   "name": "python",
   "nbconvert_exporter": "python",
   "pygments_lexer": "ipython3",
   "version": "3.10.11"
  }
 },
 "nbformat": 4,
 "nbformat_minor": 5
}
